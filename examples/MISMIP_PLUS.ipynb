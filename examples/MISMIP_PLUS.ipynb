{
 "cells": [
  {
   "cell_type": "markdown",
   "metadata": {},
   "source": [
    "# Examples \n",
    "## 1. Running the WAVI ice-sheet model for the MISMIP+ domain"
   ]
  },
  {
   "cell_type": "markdown",
   "metadata": {},
   "source": [
    "The following commands will load WAVI from GitHub as a Julia package."
   ]
  },
  {
   "cell_type": "code",
   "execution_count": null,
   "metadata": {},
   "outputs": [],
   "source": [
    "using Pkg\n",
    "Pkg.add(PackageSpec(url=\"https://github.com/RJArthern/WAVI.jl.git\", rev=\"master\"))"
   ]
  },
  {
   "cell_type": "markdown",
   "metadata": {},
   "source": [
    "Once the WAVI package has been added, it's functions can be imported via the command "
   ]
  },
  {
   "cell_type": "code",
   "execution_count": null,
   "metadata": {},
   "outputs": [],
   "source": [
    "using WAVI"
   ]
  },
  {
   "cell_type": "markdown",
   "metadata": {},
   "source": [
    "The example below demonstrates spin up of a simple simulation using the MISMIP+ example described by Cornford et al. (2020).\n",
    "\n",
    "Cornford et al. Results of the third Marine Ice Sheet Model Intercomparison Project (MISMIP+), The Cryosphere, 14, 2283-2301, https://doi.org/10.5194/tc-14-2283-2020, 2020."
   ]
  },
  {
   "cell_type": "code",
   "execution_count": null,
   "metadata": {},
   "outputs": [],
   "source": [
    "\"\"\"\n",
    "    driver(n_timesteps)\n",
    "\n",
    "Driver routine for WAVI. Defines parameters, initialises state, and runs n_timesteps.\n",
    "\"\"\"\n",
    "function driver(n_timesteps=1000)\n",
    "    \n",
    "    #Number of timesteps between plots\n",
    "    n_steps_plot=100\n",
    "\n",
    "    # MISMIP+\n",
    "    nx = 64 \n",
    "    ny = 8\n",
    "    nσ = 4\n",
    "    x0 = 0.0\n",
    "    y0 = -40000.0\n",
    "    dx = 10000.0\n",
    "    dy = 10000.0\n",
    "    dt = 1.0\n",
    "    xx=[x0+(i-0.5)*dx for i=1:nx, j=1:ny]\n",
    "    yy=[y0+(j-0.5)*dy for i=1:nx, j=1:ny]\n",
    "    starting_thickness=100.0.*ones(nx,ny)\n",
    "    accumulation_rate=0.3\n",
    "\n",
    "    #Model domain mask on h-grid\n",
    "    h_mask=trues(nx,ny)\n",
    "\n",
    "    #Homogenous Dirichlet boundary conditions\n",
    "    u_iszero=falses(nx+1,ny)\n",
    "    u_iszero[1,:].=true\n",
    "    v_iszero=falses(nx,ny+1)\n",
    "    v_iszero[:,1].=true\n",
    "    v_iszero[:,end].=true\n",
    "\n",
    "    #MISMIP+ bed elevation\n",
    "    function bed_elev_function(x,y)\n",
    "        xbar = 300000.0 \n",
    "        b0 = -150.0; b2 = -728.8; b4 = 343.91; b6 = -50.75\n",
    "        wc = 24000.0; fc = 4000.0; dc = 500.0\n",
    "        bx(x)=b0+b2*(x/xbar)^2+b4*(x/xbar)^4+b6*(x/xbar)^6\n",
    "        by(y)= dc*( (1+exp(-2(y-wc)/fc))^(-1) + (1+exp(2(y+wc)/fc))^(-1) )\n",
    "        b = max(bx(x) + by(y), -720.0)\n",
    "        return b\n",
    "    end\n",
    "    bed_elevation=bed_elev_function.(xx,yy)\n",
    "       \n",
    "    maxiter_picard=1 #No need for Picard iteration if runninng to steady state\n",
    "    \n",
    "    params = Params(nx=nx,\n",
    "                    ny=ny,\n",
    "                    nσ=nσ,\n",
    "                    x0=x0,\n",
    "                    y0=y0,\n",
    "                    dx=dx,\n",
    "                    dy=dy,\n",
    "                    dt=dt,\n",
    "                    bed_elevation=bed_elevation,\n",
    "                    starting_thickness=starting_thickness,\n",
    "                    accumulation_rate=accumulation_rate,\n",
    "                    h_mask=h_mask,\n",
    "                    u_iszero=u_iszero,\n",
    "                    v_iszero=v_iszero,\n",
    "                    maxiter_picard=maxiter_picard\n",
    "                    )\n",
    "    \n",
    "    wavi=start(params)\n",
    "    \n",
    "    for i=1:n_timesteps\n",
    "        run!(wavi)\n",
    "        print(\"\\r\")\n",
    "        print(\"Completed: \",round(i*params.dt),\n",
    "              \" years (\", round(100.0*i/n_timesteps),\"%)\")\n",
    "        if mod(i,n_steps_plot)==0\n",
    "          IJulia.clear_output(true)\n",
    "          plot_output(wavi)\n",
    "        end\n",
    "    end\n",
    "    \n",
    "    return wavi\n",
    "end"
   ]
  },
  {
   "cell_type": "markdown",
   "metadata": {},
   "source": [
    "To run the simulation, call the driver function."
   ]
  },
  {
   "cell_type": "code",
   "execution_count": null,
   "metadata": {},
   "outputs": [],
   "source": [
    "wavi=driver(ntimesteps=10000)"
   ]
  }
 ],
 "metadata": {
  "kernelspec": {
   "display_name": "Julia 1.2.0",
   "language": "julia",
   "name": "julia-1.2"
  },
  "language_info": {
   "file_extension": ".jl",
   "mimetype": "application/julia",
   "name": "julia",
   "version": "1.2.0"
  }
 },
 "nbformat": 4,
 "nbformat_minor": 4
}
